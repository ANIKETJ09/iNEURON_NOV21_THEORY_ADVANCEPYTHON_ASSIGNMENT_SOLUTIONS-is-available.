{
 "cells": [
  {
   "cell_type": "code",
   "execution_count": null,
   "id": "20873140",
   "metadata": {},
   "outputs": [],
   "source": [
    "#### Q1. What is the benefit of regular expressions?\n",
    "Ans: Regular Expressions, also known as regex or regexp, are used to match strings of text such as particular \n",
    "    characters, words, or patterns of characters. It means that we can match and extract any string pattern from \n",
    "    the text with the help of regular expressions. it helps the programmers to Write less and cleaner code. \n",
    "    it also avoids multiple use of if/else statements."
   ]
  },
  {
   "cell_type": "code",
   "execution_count": null,
   "id": "de8221dc",
   "metadata": {},
   "outputs": [],
   "source": [
    "#### Q2. Describe the difference between the effects of \"(ab)c+\" and \"a(bc)+\" Which of these, if any, is the \n",
    "#        unqualified pattern \"abc+\"?\n",
    "Ans: Both (ab)c+ and 'a(bc)'+ are valid patterns. the difference between both these patterns is in (ab)c+'ab' is \n",
    "    group whereas in 'a(bc)'+'bc' is a group."
   ]
  },
  {
   "cell_type": "code",
   "execution_count": null,
   "id": "12ad48eb",
   "metadata": {},
   "outputs": [],
   "source": [
    "#### Q3. How much do you need to use the following sentence while using regular expressions?\n",
    "import re \n",
    "\n",
    "Ans:import re statement always has to be imported before using regular expressions."
   ]
  },
  {
   "cell_type": "code",
   "execution_count": null,
   "id": "1c26e7dd",
   "metadata": {},
   "outputs": [],
   "source": [
    "#### Q4. Which characters have special significance in square brackets when expressing a range, and under what \n",
    "#        circumstances?\n",
    "Ans:The Characters '.','*','?','^',or,'()', have a special signiface when used with square brackets. \n",
    "    They need not be be explicitly escaped by \\ as in case of pattern texts in a raw string."
   ]
  },
  {
   "cell_type": "code",
   "execution_count": null,
   "id": "c1765332",
   "metadata": {},
   "outputs": [],
   "source": [
    "#### Q5. How does compiling a regular-expression object benefit you?\n",
    "Ans:We can Combine a regular expression pattern into pattern Objects.Which can be used for pattern matching. \n",
    "    it also helps to search a pattern again without rewritting it."
   ]
  },
  {
   "cell_type": "code",
   "execution_count": null,
   "id": "ae82259b",
   "metadata": {},
   "outputs": [],
   "source": [
    "#### Q6. What are some examples of how to use the match object returned by re.match and re.search?\n",
    "Ans:The re.search() and re.match() both are functions of re module in python. These functions are very efficient\n",
    "    and fast for searching in strings. The function searches for some substring in a string and returns a match \n",
    "    object if found, else it returns none.\n",
    "\n",
    "There is a difference between the use of both functions. Both return the first match of a substring found \n",
    "in the string, but re.match() searches only from the beginning of the string and return match object if found. \n",
    "But if a match of substring is found somewhere in the middle of the string, it returns none. \n",
    "\n",
    "While re.search() searches for the whole string even if the string contains multi-lines and tries to find a match\n",
    "of the substring in all the lines of string"
   ]
  },
  {
   "cell_type": "code",
   "execution_count": 1,
   "id": "63cdf149",
   "metadata": {},
   "outputs": [
    {
     "name": "stdout",
     "output_type": "stream",
     "text": [
      "<re.Match object; span=(66, 72), match='string'>\n",
      "None\n",
      "<re.Match object; span=(0, 6), match='string'>\n",
      "<re.Match object; span=(0, 6), match='string'>\n"
     ]
    }
   ],
   "source": [
    "# ANS of 6th Q.\n",
    "import re\n",
    "Substring ='string' \n",
    "String1 ='We are learning regex with geeksforgeeks regex is very useful for string matching. It is fast too.' \n",
    "String2 ='string We are learning regex with geeksforgeeks regex is very useful for string matching.It is fast too.'\n",
    "print(re.search(Substring, String1, re.IGNORECASE))\n",
    "print(re.match(Substring, String1, re.IGNORECASE))\n",
    "print(re.search(Substring, String2, re.IGNORECASE))\n",
    "print(re.match(Substring, String2, re.IGNORECASE))"
   ]
  },
  {
   "cell_type": "code",
   "execution_count": null,
   "id": "39a8d0ff",
   "metadata": {},
   "outputs": [],
   "source": [
    "#### Q7. What is the difference between using a vertical bar (|) as an alteration and using square brackets as a \n",
    "#        character set?\n",
    "Ans: When '|' we used then patterns searches for'or' option. i.e  <pattern_1>|<pattern_2>  means it searches as \n",
    "    <pattern_1>or<<pattern_2> in the searched string. the first occurance of matched string will be returned as \n",
    "    the Match Object.\n",
    "Using Character set in square Brackets searches for all the character set in the square bracket and if match is \n",
    "found, it returns it."
   ]
  },
  {
   "cell_type": "code",
   "execution_count": null,
   "id": "ea061d1a",
   "metadata": {},
   "outputs": [],
   "source": [
    "#### Q8. In regular-expression search patterns, why is it necessary to use the raw-string indicator (r)? In \n",
    "#        replacement strings?\n",
    "Ans: Raw Strings are used in the regular-expression search patterns, so that blackslashes donot have to be escaped."
   ]
  },
  {
   "cell_type": "code",
   "execution_count": null,
   "id": "7a044e5b",
   "metadata": {},
   "outputs": [],
   "source": []
  }
 ],
 "metadata": {
  "kernelspec": {
   "display_name": "Python 3 (ipykernel)",
   "language": "python",
   "name": "python3"
  },
  "language_info": {
   "codemirror_mode": {
    "name": "ipython",
    "version": 3
   },
   "file_extension": ".py",
   "mimetype": "text/x-python",
   "name": "python",
   "nbconvert_exporter": "python",
   "pygments_lexer": "ipython3",
   "version": "3.9.12"
  }
 },
 "nbformat": 4,
 "nbformat_minor": 5
}
