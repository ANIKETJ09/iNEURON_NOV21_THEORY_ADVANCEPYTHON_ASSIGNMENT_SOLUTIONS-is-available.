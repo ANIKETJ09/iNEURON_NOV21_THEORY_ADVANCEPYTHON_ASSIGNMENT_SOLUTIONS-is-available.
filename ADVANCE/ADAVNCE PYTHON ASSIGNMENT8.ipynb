{
 "cells": [
  {
   "cell_type": "code",
   "execution_count": null,
   "id": "527ec400",
   "metadata": {},
   "outputs": [],
   "source": [
    "# Q1. What are the two latest user-defined exception constraints in Python 3.X?\n",
    "ANS - 1) raise statement: With the help of raise keyword we can create a user defined exceptions\n",
    "2) assert statement: With the help of the assert keyword we can create an assertion error."
   ]
  },
  {
   "cell_type": "code",
   "execution_count": null,
   "id": "1a78a43a",
   "metadata": {},
   "outputs": [],
   "source": [
    "# Q2. How are class-based exceptions that have been raised matched to handlers?\n",
    "ANS - In python, Users can define custom exceptions by creating a new class. This exception class has to be \n",
    "derived, either directly or indirectly from built-in Exception class. This new exception class like other \n",
    "exceptions can be raised using the raise statement with an optional error message."
   ]
  },
  {
   "cell_type": "code",
   "execution_count": null,
   "id": "c77e2e91",
   "metadata": {},
   "outputs": [],
   "source": [
    "# ANS of 2nd Q\n",
    "class ToYoungException(Exception):\n",
    "    def __init__(self,msg):\n",
    "        self.msg = msg\n",
    "age = 12\n",
    "if age <= 18: raise ToYoungException('To Young For Voting')"
   ]
  },
  {
   "cell_type": "code",
   "execution_count": null,
   "id": "deb365e7",
   "metadata": {},
   "outputs": [],
   "source": [
    "# Q3. Describe two methods for attaching context information to exception artefacts ?\n",
    "ANS - The process() method of LoggerAdapter is where the contextual information is added to the logging output. \n",
    "its passes the message and keyword arguments of the logging call, and it passes back modified versions of these \n",
    "to use in the call to the underlying logger.\n",
    "Other method that can be used is exception(), Logs a messgae with level ERROR on this logger. The arguments are \n",
    "interpreted as for debug(). Exception info is added to the logging message."
   ]
  },
  {
   "cell_type": "code",
   "execution_count": null,
   "id": "a8be852a",
   "metadata": {},
   "outputs": [],
   "source": [
    "# Q4. Describe two methods for specifying the text of an exception object's error message ?\n",
    "ANS - raise and assert are two methods for specifying the text of an exception object's error message.\n",
    "raise statement is used to trigger explicit exception, if certain condition is not as per requirement of\n",
    "programmer. it helps in triggering exception as per need of programmer and logic.\n",
    "There are few assertions that programmer always want to be True to avoid code failure. This type of \n",
    "requirment is fullfilled by assert statement. This statement takes a Boolean Condition output of which if True, \n",
    "further program executes. if output of assert statement is False it raises an Assertion Error."
   ]
  },
  {
   "cell_type": "code",
   "execution_count": null,
   "id": "9246fac4",
   "metadata": {},
   "outputs": [],
   "source": [
    "# Q5. Why do you no longer use string-based exceptions?\n",
    "ANS - String-based Exceptions doesn't inherit from Exceptions. so plain exceptions catch all exceptions and not \n",
    " only system."
   ]
  },
  {
   "cell_type": "code",
   "execution_count": null,
   "id": "ee28f6af",
   "metadata": {},
   "outputs": [],
   "source": []
  },
  {
   "cell_type": "code",
   "execution_count": null,
   "id": "f6693ae8",
   "metadata": {},
   "outputs": [],
   "source": []
  },
  {
   "cell_type": "code",
   "execution_count": null,
   "id": "c7411298",
   "metadata": {},
   "outputs": [],
   "source": []
  }
 ],
 "metadata": {
  "kernelspec": {
   "display_name": "Python 3 (ipykernel)",
   "language": "python",
   "name": "python3"
  },
  "language_info": {
   "codemirror_mode": {
    "name": "ipython",
    "version": 3
   },
   "file_extension": ".py",
   "mimetype": "text/x-python",
   "name": "python",
   "nbconvert_exporter": "python",
   "pygments_lexer": "ipython3",
   "version": "3.9.12"
  }
 },
 "nbformat": 4,
 "nbformat_minor": 5
}
