{
 "cells": [
  {
   "cell_type": "code",
   "execution_count": null,
   "id": "a65e677c",
   "metadata": {},
   "outputs": [],
   "source": [
    "# 1. Describe three applications for exception processing ? \n",
    "ANS - The main three applications for exceptions processing are\n",
    "\n",
    "try:  \n",
    "except:  \n",
    "finally:  \n",
    "Try and except statements are used to catch and handle exceptions in Python.\n",
    "Statements that can raise exceptions are kept inside the try clause and the statements that handle the exception are written inside except clause."
   ]
  },
  {
   "cell_type": "code",
   "execution_count": null,
   "id": "1678e2c1",
   "metadata": {},
   "outputs": [],
   "source": [
    "# 2. What happens if you don't do something extra to treat an exception?\n",
    "ANS - If Exceptions are not handled flow of program will be broken during the run time which might lead to a\n",
    "abnormal termination of the program. Inshort inability of program to handle exceptions will result in crashing of\n",
    "program."
   ]
  },
  {
   "cell_type": "code",
   "execution_count": null,
   "id": "cd8e9d42",
   "metadata": {},
   "outputs": [],
   "source": [
    "# 3. What are your options for recovering from an exception in your script ?\n",
    "ANS - Python provides try and except statements for recovering from an exception in your script."
   ]
  },
  {
   "cell_type": "code",
   "execution_count": null,
   "id": "2a34f9ba",
   "metadata": {},
   "outputs": [],
   "source": [
    "# Q4. Describe two methods for triggering exceptions in your script ?\n",
    "ANS: raise and assert are two methods that can be used to trigger manual exceptions in your script.\n",
    "raise method triggers an exception if condition provided to it turns out to be True.\n",
    "assert will let the program to continue execution if condition provided to it turns out to be True else exception\n",
    "will be raised"
   ]
  },
  {
   "cell_type": "code",
   "execution_count": 1,
   "id": "0c492549",
   "metadata": {},
   "outputs": [
    {
     "ename": "Exception",
     "evalue": "a Value Should not exceed 5 The Provided Value of a is 10",
     "output_type": "error",
     "traceback": [
      "\u001b[0;31m---------------------------------------------------------------------------\u001b[0m",
      "\u001b[0;31mException\u001b[0m                                 Traceback (most recent call last)",
      "Input \u001b[0;32mIn [1]\u001b[0m, in \u001b[0;36m<cell line: 2>\u001b[0;34m()\u001b[0m\n\u001b[1;32m      1\u001b[0m a \u001b[38;5;241m=\u001b[39m \u001b[38;5;241m10\u001b[39m\n\u001b[0;32m----> 2\u001b[0m \u001b[38;5;28;01mraise\u001b[39;00m \u001b[38;5;167;01mException\u001b[39;00m(\u001b[38;5;124mf\u001b[39m\u001b[38;5;124m'\u001b[39m\u001b[38;5;124ma Value Should not exceed 5 The Provided Value of a is \u001b[39m\u001b[38;5;132;01m{\u001b[39;00ma\u001b[38;5;132;01m}\u001b[39;00m\u001b[38;5;124m'\u001b[39m)\n",
      "\u001b[0;31mException\u001b[0m: a Value Should not exceed 5 The Provided Value of a is 10"
     ]
    }
   ],
   "source": [
    "a = 10\n",
    "raise Exception(f'a Value Should not exceed 5 The Provided Value of a is {a}')"
   ]
  },
  {
   "cell_type": "code",
   "execution_count": 2,
   "id": "ee374a12",
   "metadata": {},
   "outputs": [
    {
     "ename": "AssertionError",
     "evalue": "2 is not equal to 4",
     "output_type": "error",
     "traceback": [
      "\u001b[0;31m---------------------------------------------------------------------------\u001b[0m",
      "\u001b[0;31mAssertionError\u001b[0m                            Traceback (most recent call last)",
      "Input \u001b[0;32mIn [2]\u001b[0m, in \u001b[0;36m<cell line: 1>\u001b[0;34m()\u001b[0m\n\u001b[0;32m----> 1\u001b[0m \u001b[38;5;28;01massert\u001b[39;00m(\u001b[38;5;241m2\u001b[39m\u001b[38;5;241m==\u001b[39m\u001b[38;5;241m4\u001b[39m), \u001b[38;5;124m\"\u001b[39m\u001b[38;5;124m2 is not equal to 4\u001b[39m\u001b[38;5;124m\"\u001b[39m\n",
      "\u001b[0;31mAssertionError\u001b[0m: 2 is not equal to 4"
     ]
    }
   ],
   "source": [
    "assert(2==4), \"2 is not equal to 4\""
   ]
  },
  {
   "cell_type": "code",
   "execution_count": null,
   "id": "3784df09",
   "metadata": {},
   "outputs": [],
   "source": [
    "##5. Identify two methods for specifying actions to be executed at termination time, regardless of whether or not \n",
    "#    an exception exists ?\n",
    "ANS - Python Provides else and finally blocks for specifying actions to be executed at termination time,\n",
    "      regardless of whether an exceptions exists or not."
   ]
  },
  {
   "cell_type": "code",
   "execution_count": null,
   "id": "7fcb45b3",
   "metadata": {},
   "outputs": [],
   "source": []
  },
  {
   "cell_type": "code",
   "execution_count": null,
   "id": "6f40cdd8",
   "metadata": {},
   "outputs": [],
   "source": []
  }
 ],
 "metadata": {
  "kernelspec": {
   "display_name": "Python 3 (ipykernel)",
   "language": "python",
   "name": "python3"
  },
  "language_info": {
   "codemirror_mode": {
    "name": "ipython",
    "version": 3
   },
   "file_extension": ".py",
   "mimetype": "text/x-python",
   "name": "python",
   "nbconvert_exporter": "python",
   "pygments_lexer": "ipython3",
   "version": "3.9.12"
  }
 },
 "nbformat": 4,
 "nbformat_minor": 5
}
