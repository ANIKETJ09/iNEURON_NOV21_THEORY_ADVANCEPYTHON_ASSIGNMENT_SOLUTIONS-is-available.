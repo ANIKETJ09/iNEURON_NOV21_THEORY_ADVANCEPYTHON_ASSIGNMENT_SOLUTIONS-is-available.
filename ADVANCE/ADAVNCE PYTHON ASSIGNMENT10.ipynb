{
 "cells": [
  {
   "cell_type": "code",
   "execution_count": null,
   "id": "e4b7cb6b",
   "metadata": {},
   "outputs": [],
   "source": [
    "# 1. What is the difference between getattr and getattribute?\n",
    "ANS - __ getattr __ method is called when the calling attribute is present in our class and we are sure about it. \n",
    "If the calling attribute is not present in our class then it will through an AttributeError\n",
    "And in Another side, if our function has __ getattribute __ then the condition is written inside this method will\n",
    "be put an effect on every other attribute no matter the method is present or not."
   ]
  },
  {
   "cell_type": "code",
   "execution_count": null,
   "id": "4985b644",
   "metadata": {},
   "outputs": [],
   "source": [
    "# 2. What is the difference between properties and descriptors?\n",
    "ANS - The properties are much simpler to use and understand. Simply says it can convert the method as an attribute.\n",
    "Like we have a method in our class and if we add @property as a decorator of that function then we can use that \n",
    "function or method as an attribute means we no longer need to use () like calling a function.\n",
    "Descriptors give us a special ability to create objects that have special behavior when they’re accessed as \n",
    "attributes of other objects."
   ]
  },
  {
   "cell_type": "code",
   "execution_count": null,
   "id": "94402086",
   "metadata": {},
   "outputs": [],
   "source": [
    "#3. What are the key differences in functionality between getattr and getattribute, as well as properties and \n",
    "#descriptors? \n",
    "ANS - Descriptors are a low-level mechanism that lets you hook into an object's attributes being accessed. \n",
    "Properties are a high-level application of this; that is, properties are implemented using descriptors.\n",
    "The property function gives us a handy way to implement a simple descriptor without defining a separate class.\n",
    "Rather than create a complete class definition, we can write getter and setter method functions, and then bind \n",
    "these functions to an attribute name."
   ]
  }
 ],
 "metadata": {
  "kernelspec": {
   "display_name": "Python 3 (ipykernel)",
   "language": "python",
   "name": "python3"
  },
  "language_info": {
   "codemirror_mode": {
    "name": "ipython",
    "version": 3
   },
   "file_extension": ".py",
   "mimetype": "text/x-python",
   "name": "python",
   "nbconvert_exporter": "python",
   "pygments_lexer": "ipython3",
   "version": "3.9.12"
  }
 },
 "nbformat": 4,
 "nbformat_minor": 5
}
