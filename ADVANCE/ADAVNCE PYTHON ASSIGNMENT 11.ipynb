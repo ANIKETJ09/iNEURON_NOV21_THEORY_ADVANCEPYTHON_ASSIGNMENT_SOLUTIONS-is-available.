{
 "cells": [
  {
   "cell_type": "markdown",
   "id": "03eb75f0",
   "metadata": {},
   "source": [
    "Q1.What is the concept of a metaclass?  \n",
    "\n",
    "ANS - Metaclass in Python is a class of a class that defines how a class behaves. \n",
    "A class is itself a instance of Metaclass, and any Instance of Class in Python is an Instance of type metaclass. \n",
    "E.g. Type of of int, str, float, list, tuple and many more is of metaclass type"
   ]
  },
  {
   "cell_type": "markdown",
   "id": "c4d4ee17",
   "metadata": {},
   "source": [
    "Q2.What is the best way to declare a class's metaclass? \n",
    "\n",
    "ANS - A way to declare a class’ metaclass is by using metaclass keyword in class definition"
   ]
  },
  {
   "cell_type": "code",
   "execution_count": 1,
   "id": "332c901b",
   "metadata": {},
   "outputs": [
    {
     "name": "stdout",
     "output_type": "stream",
     "text": [
      "<class 'type'>\n",
      "<class '__main__.meta'>\n"
     ]
    }
   ],
   "source": [
    "# Ans of 2nd Q \n",
    "\n",
    "class meta(type):\n",
    "    pass\n",
    "class class_meta(metaclass=meta):\n",
    "    pass\n",
    "print(type(meta))\n",
    "print(type(class_meta))"
   ]
  },
  {
   "cell_type": "markdown",
   "id": "0a8cc4d0",
   "metadata": {},
   "source": [
    "Q3.How do class decorators overlap with metaclasses for handling classes ?\n",
    "\n",
    "ANS - Anything we can do with a class decorator, we can of course do with a custom metaclasses \n",
    "(just apply the functionality of the \"decorator function\", i.e., the one that takes a class object and modifies \n",
    " it,in the course of the metaclass's __ new __ or __ init __ that make the class object!)"
   ]
  },
  {
   "cell_type": "markdown",
   "id": "21b46ddd",
   "metadata": {},
   "source": [
    "Q4.How do class decorators overlap with metaclasses for handling instances?\n",
    "\n",
    "ANS - Anything we can do with a class decorator, we can of course do with a custom metaclass \n",
    "(just apply the functionality of the \"decorator function\", i.e., the one that takes a class object and modifies it,in the course of the metaclass's __ new __ or __ init __ that make the class object!)"
   ]
  },
  {
   "cell_type": "markdown",
   "id": "ede569b4",
   "metadata": {},
   "source": []
  },
  {
   "cell_type": "code",
   "execution_count": null,
   "id": "d5936ce1",
   "metadata": {},
   "outputs": [],
   "source": []
  },
  {
   "cell_type": "code",
   "execution_count": null,
   "id": "fc1f5420",
   "metadata": {},
   "outputs": [],
   "source": []
  },
  {
   "cell_type": "code",
   "execution_count": null,
   "id": "22dafe52",
   "metadata": {},
   "outputs": [],
   "source": []
  },
  {
   "cell_type": "code",
   "execution_count": null,
   "id": "c2808dc1",
   "metadata": {},
   "outputs": [],
   "source": []
  },
  {
   "cell_type": "code",
   "execution_count": null,
   "id": "4ab42f03",
   "metadata": {},
   "outputs": [],
   "source": []
  },
  {
   "cell_type": "code",
   "execution_count": null,
   "id": "66b09d59",
   "metadata": {},
   "outputs": [],
   "source": []
  },
  {
   "cell_type": "code",
   "execution_count": null,
   "id": "45e13495",
   "metadata": {},
   "outputs": [],
   "source": []
  },
  {
   "cell_type": "code",
   "execution_count": null,
   "id": "31dd087e",
   "metadata": {},
   "outputs": [],
   "source": []
  },
  {
   "cell_type": "code",
   "execution_count": null,
   "id": "793b0e25",
   "metadata": {},
   "outputs": [],
   "source": []
  },
  {
   "cell_type": "code",
   "execution_count": null,
   "id": "97883021",
   "metadata": {},
   "outputs": [],
   "source": []
  }
 ],
 "metadata": {
  "kernelspec": {
   "display_name": "Python 3 (ipykernel)",
   "language": "python",
   "name": "python3"
  },
  "language_info": {
   "codemirror_mode": {
    "name": "ipython",
    "version": 3
   },
   "file_extension": ".py",
   "mimetype": "text/x-python",
   "name": "python",
   "nbconvert_exporter": "python",
   "pygments_lexer": "ipython3",
   "version": "3.9.12"
  }
 },
 "nbformat": 4,
 "nbformat_minor": 5
}
