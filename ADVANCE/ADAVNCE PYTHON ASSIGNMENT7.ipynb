{
 "cells": [
  {
   "cell_type": "code",
   "execution_count": null,
   "id": "fdd0c469",
   "metadata": {},
   "outputs": [],
   "source": [
    "# 1. What is the purpose of the try statement?\n",
    "ANS - The main purpose of the try statement is to run our main script in safe mode. Menas if the main script \n",
    "contains some error of some mistake that we or the programmer or the user of that script is responsible for then \n",
    "it will through error as our desired way that we define by following the try clause except\n",
    "Although the main concept is try is basically telling the console to try to run the code if it executes\n",
    "successfully then exit and if not the process as we define."
   ]
  },
  {
   "cell_type": "code",
   "execution_count": null,
   "id": "d09c7985",
   "metadata": {},
   "outputs": [],
   "source": [
    "# 2. What are the two most popular try statement variations?\n",
    "ANS -\n",
    "try with except block: When try fails except will execute. When try passess, except do not execute\n",
    "try with except and else: When try will execute then only else block will exceute. If try fails then only except \n",
    "    block will exceute not else block"
   ]
  },
  {
   "cell_type": "code",
   "execution_count": null,
   "id": "5416c7aa",
   "metadata": {},
   "outputs": [],
   "source": [
    "# 3. What is the purpose of raise statement?\n",
    "ANS - With the raise statement we can trigger our own defined error at any point of the time and we can raise an \n",
    "error in any were in our script as long as it is reasonable.\n",
    "So if we want to trigger an error at a specific moment of time we can use raise statement for that purpose."
   ]
  },
  {
   "cell_type": "code",
   "execution_count": null,
   "id": "0a35e1ee",
   "metadata": {},
   "outputs": [],
   "source": [
    "# 4. What does the assert statement do, and what other statement is it like?\n",
    "ANS - There are few assertions that programmer always want to be true to avoid code failure. \n",
    "This type of requirement is fulfilled by assert statement. This statement takes a boolean condition output of \n",
    "which is True, Further Program Executes. if output of assert statement is False, it raises an Assertion Error."
   ]
  },
  {
   "cell_type": "code",
   "execution_count": 1,
   "id": "729c1480",
   "metadata": {},
   "outputs": [
    {
     "ename": "AssertionError",
     "evalue": "this is not a valid statement",
     "output_type": "error",
     "traceback": [
      "\u001b[0;31m---------------------------------------------------------------------------\u001b[0m",
      "\u001b[0;31mAssertionError\u001b[0m                            Traceback (most recent call last)",
      "Input \u001b[0;32mIn [1]\u001b[0m, in \u001b[0;36m<cell line: 1>\u001b[0;34m()\u001b[0m\n\u001b[0;32m----> 1\u001b[0m \u001b[38;5;28;01massert\u001b[39;00m(\u001b[38;5;241m2\u001b[39m \u001b[38;5;241m==\u001b[39m \u001b[38;5;241m4\u001b[39m), \u001b[38;5;124mf\u001b[39m\u001b[38;5;124m'\u001b[39m\u001b[38;5;124mthis is not a valid statement\u001b[39m\u001b[38;5;124m'\u001b[39m\n",
      "\u001b[0;31mAssertionError\u001b[0m: this is not a valid statement"
     ]
    }
   ],
   "source": [
    "assert(2 == 4), f'this is not a valid statement'"
   ]
  },
  {
   "cell_type": "code",
   "execution_count": null,
   "id": "e3f4f5a8",
   "metadata": {},
   "outputs": [],
   "source": [
    "# 5. What is the purpose of the with/as argument, and what other statement is it like?\n",
    "ANS - with / as arguments are used in python to make the code more readable and cleaner.\n",
    "The with statement is handle the exception the with statement ensure the acquisition and release of resources by \n",
    "itself automatically. The with statement avoiding bugs and leaks and ensure that resources are properly released \n",
    "at the time of code executions.\n",
    "The as is just to use an instance name or variable name for the resource we are executing."
   ]
  },
  {
   "cell_type": "code",
   "execution_count": null,
   "id": "76ce8171",
   "metadata": {},
   "outputs": [],
   "source": []
  },
  {
   "cell_type": "code",
   "execution_count": null,
   "id": "74de022e",
   "metadata": {},
   "outputs": [],
   "source": []
  },
  {
   "cell_type": "code",
   "execution_count": null,
   "id": "9c094932",
   "metadata": {},
   "outputs": [],
   "source": []
  },
  {
   "cell_type": "code",
   "execution_count": null,
   "id": "249d7fa3",
   "metadata": {},
   "outputs": [],
   "source": []
  },
  {
   "cell_type": "code",
   "execution_count": null,
   "id": "eb1bb183",
   "metadata": {},
   "outputs": [],
   "source": []
  }
 ],
 "metadata": {
  "kernelspec": {
   "display_name": "Python 3 (ipykernel)",
   "language": "python",
   "name": "python3"
  },
  "language_info": {
   "codemirror_mode": {
    "name": "ipython",
    "version": 3
   },
   "file_extension": ".py",
   "mimetype": "text/x-python",
   "name": "python",
   "nbconvert_exporter": "python",
   "pygments_lexer": "ipython3",
   "version": "3.9.12"
  }
 },
 "nbformat": 4,
 "nbformat_minor": 5
}
