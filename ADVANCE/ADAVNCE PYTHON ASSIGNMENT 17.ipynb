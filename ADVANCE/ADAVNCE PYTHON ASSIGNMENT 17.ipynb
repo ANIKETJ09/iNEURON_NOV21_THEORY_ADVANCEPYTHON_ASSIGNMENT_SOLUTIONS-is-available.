{
 "cells": [
  {
   "cell_type": "code",
   "execution_count": null,
   "id": "e4d3cec3",
   "metadata": {},
   "outputs": [],
   "source": [
    "### Q1. Explain the difference between greedy and non-greedy syntax with visual terms in as few words as possible. What is the bare minimum effort required to transform a greedy pattern into a non-greedy one? What characters or characters can you introduce or change?\n",
    "Ans:The Main difference between Greedy and Non Greedy Match Syntax is The Greedy Match will try to match as many \n",
    "    repetitions of the quantified pattern as possible Whereas The Non Greedy Match will try to match as few \n",
    "    repetitions of the quantified pattern as possible."
   ]
  },
  {
   "cell_type": "code",
   "execution_count": 2,
   "id": "4c32e126",
   "metadata": {},
   "outputs": [
    {
     "name": "stdout",
     "output_type": "stream",
     "text": [
      "['kkkkkk', '']\n",
      "['', 'k', '', 'k', '', 'k', '', 'k', '', 'k', '', 'k', '']\n"
     ]
    }
   ],
   "source": [
    "# ANS of 1st Q\n",
    "import re\n",
    "print(re.findall(\"k*\", \"kkkkkk\")) # Greedy Match Synatx\n",
    "print(re.findall(\"k*?\", \"kkkkkk\")) # Non Greddy Syntax"
   ]
  },
  {
   "cell_type": "code",
   "execution_count": null,
   "id": "b802314a",
   "metadata": {},
   "outputs": [],
   "source": [
    "#### Q2. When exactly does greedy versus non-greedy make a difference?  What if you're looking for a non-greedy \n",
    "#        match but the only one available is greedy?\n",
    "Ans:The Greedy Match will try to match as many repetitions of the quantified pattern as possible. \n",
    "    The Non Greedy Match will try to match as few repetitions of the quantified pattern as possible. \n",
    "    If only Non Greedy Match is available, we can use other filtering or pattern matching methods of regex and \n",
    "    further identify the required pattern."
   ]
  },
  {
   "cell_type": "code",
   "execution_count": null,
   "id": "f8dde193",
   "metadata": {},
   "outputs": [],
   "source": [
    "#### Q3. In a simple match of a string, which looks only for one match and does not do any replacement,\n",
    "#        is the use of a nontagged group likely to make any practical difference?\n",
    "Ans:In this Case The Non Tagged Group will not make any diffrence in this case."
   ]
  },
  {
   "cell_type": "code",
   "execution_count": 3,
   "id": "2dbbe1ea",
   "metadata": {},
   "outputs": [
    {
     "name": "stdout",
     "output_type": "stream",
     "text": [
      "Phone number found -> 234\n",
      "Phone number found -> 234\n"
     ]
    }
   ],
   "source": [
    "# ANS of 3rd Q\n",
    "import re\n",
    "phoneNumRegex = re.compile(r'\\d\\d\\d')\n",
    "num = phoneNumRegex.search('My number is 234-567-8901.')\n",
    "print(f'Phone number found -> {num.group()}') # Non Tagged group\n",
    "print(f'Phone number found -> {num.group(0)}') # Tagged Group"
   ]
  },
  {
   "cell_type": "code",
   "execution_count": null,
   "id": "1296c7a8",
   "metadata": {},
   "outputs": [],
   "source": [
    "#### Q4. Describe a scenario in which using a nontagged category would have a significant impact on the program's\n",
    "#        outcomes ?\n",
    "Ans:Here in the below Code Snippet . decimal is not tagged or captured. It will useful in scenarios where the \n",
    "    separator of value in a string is of no use and we need to capture only the values."
   ]
  },
  {
   "cell_type": "code",
   "execution_count": 4,
   "id": "83245bd6",
   "metadata": {},
   "outputs": [
    {
     "data": {
      "text/plain": [
       "('135', '456')"
      ]
     },
     "execution_count": 4,
     "metadata": {},
     "output_type": "execute_result"
    }
   ],
   "source": [
    "# ANS of 4th Q\n",
    "import re\n",
    "text='135.456'\n",
    "pattern=r'(\\d+)(?:.)(\\d+)'\n",
    "regobj=re.compile(pattern)\n",
    "matobj=regobj.search(text)\n",
    "matobj.groups()"
   ]
  },
  {
   "cell_type": "code",
   "execution_count": null,
   "id": "472f7350",
   "metadata": {},
   "outputs": [],
   "source": [
    "#### Q5. Unlike a normal regex pattern, a look-ahead condition does not consume the characters it examines.\n",
    "#        Describe a situation in which this could make a difference in the results of your programme ?\n",
    "Ans: While counting the number of multiple lines or mutiple sentence in a string the positive look ahead makes a \n",
    "     difference, without which we wont get the correct count of lines or sentences in a string."
   ]
  },
  {
   "cell_type": "code",
   "execution_count": null,
   "id": "a0bc4039",
   "metadata": {},
   "outputs": [],
   "source": [
    "#### Q6. In standard expressions, what is the difference between positive look-ahead and negative look-ahead ?\n",
    "Ans:Positive Lookahead allows to add a condition for what follows.Negative Lookahead is similar, but it looks \n",
    "    behind. That is, it allows to match a pattern only if there’s something before it."
   ]
  },
  {
   "cell_type": "code",
   "execution_count": null,
   "id": "3b5d67e6",
   "metadata": {},
   "outputs": [],
   "source": [
    "#### Q7. What is the benefit of referring to groups by name rather than by number in a standard expression?\n",
    "Ans:Referring to groups by name rather than by number in a standard expression helps to keep the code clear and \n",
    "    easy to understand."
   ]
  },
  {
   "cell_type": "code",
   "execution_count": null,
   "id": "f8c10375",
   "metadata": {},
   "outputs": [],
   "source": [
    "#### Q8. Can you identify repeated items within a target string using named groups, as in \"The cow jumped over \n",
    "##       the moon\"?"
   ]
  },
  {
   "cell_type": "code",
   "execution_count": 6,
   "id": "0dbf6cf1",
   "metadata": {},
   "outputs": [
    {
     "data": {
      "text/plain": [
       "['The', 'the']"
      ]
     },
     "execution_count": 6,
     "metadata": {},
     "output_type": "execute_result"
    }
   ],
   "source": [
    "# ANS of 8th Q\n",
    "import re\n",
    "text = \"The cat jumped over the table\"\n",
    "regobj=re.compile(r'(?P<w1>The)',re.I)\n",
    "regobj.findall(text)"
   ]
  },
  {
   "cell_type": "code",
   "execution_count": null,
   "id": "376c2158",
   "metadata": {},
   "outputs": [],
   "source": [
    "#### Q9. When parsing a string, what is at least one thing that the Scanner interface does for you that the \n",
    "#        re.findall feature does not ?\n",
    "Ans:'re.findall()' module is used to search for 'all' occurrences that match a given pattern. In contrast, \n",
    "    re.search() will only return the first occurrence that matches the specified pattern. re.findall()\n",
    "will iterate over all the lines of the file and will return all non-overlapping matches of pattern in a single \n",
    "step."
   ]
  },
  {
   "cell_type": "code",
   "execution_count": null,
   "id": "40c87f0e",
   "metadata": {},
   "outputs": [],
   "source": [
    "#### Q10. Does a scanner object have to be named scanner?\n",
    "Ans:Yes, It may have any name."
   ]
  },
  {
   "cell_type": "code",
   "execution_count": null,
   "id": "4e40966a",
   "metadata": {},
   "outputs": [],
   "source": []
  },
  {
   "cell_type": "code",
   "execution_count": null,
   "id": "bae69844",
   "metadata": {},
   "outputs": [],
   "source": []
  }
 ],
 "metadata": {
  "kernelspec": {
   "display_name": "Python 3 (ipykernel)",
   "language": "python",
   "name": "python3"
  },
  "language_info": {
   "codemirror_mode": {
    "name": "ipython",
    "version": 3
   },
   "file_extension": ".py",
   "mimetype": "text/x-python",
   "name": "python",
   "nbconvert_exporter": "python",
   "pygments_lexer": "ipython3",
   "version": "3.9.12"
  }
 },
 "nbformat": 4,
 "nbformat_minor": 5
}
