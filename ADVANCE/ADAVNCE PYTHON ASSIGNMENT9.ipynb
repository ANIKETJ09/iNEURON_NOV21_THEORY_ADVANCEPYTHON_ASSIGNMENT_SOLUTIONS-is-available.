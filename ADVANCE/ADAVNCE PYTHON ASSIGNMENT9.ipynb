{
 "cells": [
  {
   "cell_type": "markdown",
   "id": "fd77b348",
   "metadata": {},
   "source": [
    "Q1. In Python 3.X, what are the names and functions of string object types?\n",
    "ANS-\n",
    ".isdecimal() -> Returns True if all characters in a string are decimal.\n",
    ".isalnum() -> Returns True if all characters in the string are AlphaNumeric.\n",
    ".istitle() -> Returns True if first character in a string is in Uppercase.\n",
    ".partition() -> Splits string at first occurance of sub string and returns a tuple of 3 elements.\n",
    ".rpartition() -> Splits string at last occurance of sub string and returns a tuple of 3 elements.\n",
    ".isidentifier() -> Returns True if give string is a valid identifier name.\n",
    "len() -> Returns the length of the given string.\n",
    ".index() -> Returns the lowest index of substring if substring is found in the string.\n",
    ".rindex() -> Returns the highest index of substring if substring is found in the string.\n",
    "max() -> Returns the highest Alphabetical Character in the string as per ASCII.\n",
    "min() -> Returns the lowest Alphabetical Character in the string as per ASCII.\n",
    ".splitlines() -> Returns a list of lines in the string.\n",
    ".capitalize() -> Returns the string with first character capitalized.\n",
    ".upper() -> Returns the string with all characters in uppercase.\n",
    ".lower() -> Returns the string with all characters in lowercase\n",
    ".casefold() -> Returns the string in lowercase which can be used for caseless comparisions.\n",
    ".expandtabs(no_of_spaces) -> Replaces tabs in a string with specified no of spaces default is 8\n",
    ".find() -> Returns lowest index of substring if substring is found in the string else returns -1.\n",
    ".rfind() -> Returns highest index of substring if substring is found in the string else returns -1.\n",
    ".count() -> Returns the no of occurances of the char in the given string.\n",
    ".split() -> Returns list of words seperated by given sep else seperated by whitespace.\n",
    ".rsplit() -> Returns list of words seperated by given sep else seperated by whitespace scanning from end.\n",
    ".lstrip() -> Returns a copy of where leading whitespaces are removed.\n",
    ".rstrip() -> Returns a copy of where trailed whitespaces are removed.\n",
    ".strip() -> Returns a copy of where both leading and trailing whitespaces are removed.\n",
    ".swapcase() -> Swaps lowercase characters with uppercase and vice versa.\n",
    ".join() -> Concatenates a list or tuple of words with intervening occuernces of sep.\n",
    ".translate() -> translates the characters using table.\n",
    ".maketrans() -> Creating a mapping translation tbale usable for - .translate()\n",
    ".replace(,) -> Replace all occurances of char_1 with char_2 in string.\n",
    ".encode() -> Encodes string into any encoding supported by python. Default encoding is UTF-8.\n",
    ".ljust() -> Left-justify in a field of given width.\n",
    ".rjust() -> Right-justify in a field of given width.\n",
    ".center() -> Center-justify in a field of given width.\n",
    ".zfill() -> Zfill adds zeros to the begining of string until the specified length is reached."
   ]
  },
  {
   "cell_type": "code",
   "execution_count": 2,
   "id": "d36d64f6",
   "metadata": {},
   "outputs": [
    {
     "name": "stdout",
     "output_type": "stream",
     "text": [
      "True\n",
      "True\n",
      "False\n",
      "('\"I could eat ', 'apples', ' all day, apples are my favorite fruit\"')\n",
      "('\"I could eat apples all day, ', 'apples', ' are my favorite fruit\"')\n",
      "True\n",
      "17\n",
      "1\n",
      "8\n",
      "t\n",
      "A\n",
      "['Ineuron ', ' Full Stack ', ' Data Science ', ' Course ']\n",
      "Finding demo\n",
      "DATAPIPELINES\n",
      "mlops\n",
      "doloris jane umbridge\n",
      "Data science    Data Analyst\n",
      "1\n",
      "6\n",
      "0\n",
      "['i', 'euro', '']\n",
      "['i', 'euro', '']\n",
      "EDA \n",
      " EDA\n",
      "EDA1\n",
      "eXPLORATORY dATA aNALYSIS\n",
      "Iris_flower_Dataset\n",
      "Hello Pam!\n",
      "Hello Pam!\n",
      "I2euro2\n",
      "b'Natural Language Processing'\n",
      "Nemo      \n",
      "      Nemo\n",
      "   Nemo   \n",
      "00000Hello\n"
     ]
    }
   ],
   "source": [
    "print('1234567890'.isdecimal())\n",
    "print('IneuronFullStackDS'.isalnum())\n",
    "print('Ineuron Full Stack Data science pro'.istitle())\n",
    "print('\"I could eat apples all day, apples are my favorite fruit\"'.partition('apples'))\n",
    "print('\"I could eat apples all day, apples are my favorite fruit\"'.rpartition('apples'))\n",
    "print('FeeksForFeeks'.isidentifier())\n",
    "print(len('Linear Regression'))\n",
    "print('oneneuron'.index('n'))\n",
    "print('oneneuron'.rindex('n'))\n",
    "print(max('Data_Scientist'))\n",
    "print(min('Data_Analyst'))\n",
    "print('Ineuron \\n Full Stack \\n Data Science \\n Course '.splitlines())\n",
    "print('finding demo'.capitalize())\n",
    "print('datapipelines'.upper())\n",
    "print('MLOPS'.lower())\n",
    "print('Doloris Jane Umbridge'.casefold())\n",
    "print('Data science\\tData Analyst'.expandtabs(8))\n",
    "print('Ineuron'.find('n'))\n",
    "print('Ineuron'.rfind('n'))\n",
    "print('AI'.count('s'))\n",
    "print('ineuron'.split('n'))\n",
    "print('ineuron'.rsplit('n'))\n",
    "print(' EDA '.lstrip())\n",
    "print(' EDA '.rstrip())\n",
    "print(' EDA1 '.strip())\n",
    "print('Exploratory Data Analysis'.swapcase())\n",
    "print('_'.join(['Iris','flower','Dataset']))\n",
    "\n",
    "mydict = {83:  80}\n",
    "print(\"Hello Sam!\".translate(mydict))\n",
    "\n",
    "txt = \"Hello Sam!\"\n",
    "mytable = txt.maketrans(\"S\", \"P\")\n",
    "print(txt.translate(mytable))\n",
    "\n",
    "print('Ineuron'.replace('n','2'))\n",
    "print('Natural Language Processing'.encode())\n",
    "print('Nemo'.ljust(10))\n",
    "print('Nemo'.rjust(10))\n",
    "print('Nemo'.center(10))\n",
    "print('Hello'.zfill(10))"
   ]
  },
  {
   "cell_type": "code",
   "execution_count": null,
   "id": "80632666",
   "metadata": {},
   "outputs": [],
   "source": [
    "# Q2. How do the string forms in Python 3.X vary in terms of operations?\n",
    "ANS - In Python3 default format of strings is Unicode Whereas in Pyton2 we need to explicitly mention Unicode \n",
    "value using u."
   ]
  },
  {
   "cell_type": "code",
   "execution_count": null,
   "id": "d52c9617",
   "metadata": {},
   "outputs": [],
   "source": [
    "# Q3. In Python 3.X, how do you put non-ASCII Unicode characters in a string?\n",
    "ANS - In Python 3.x unidecode() method from unidecode library can be used to put non-ASCII Unicode Characters in\n",
    "a string."
   ]
  },
  {
   "cell_type": "code",
   "execution_count": 4,
   "id": "75b21d10",
   "metadata": {},
   "outputs": [
    {
     "name": "stdout",
     "output_type": "stream",
     "text": [
      "kozuscek\n",
      "mehnt krte rhiye sphltaa jruur milegii \n",
      "Xie Xie Ni \n",
      "arigatou. \n",
      "ulybat'sia Vladimir Putin\n"
     ]
    }
   ],
   "source": [
    "# ANS of 3rd Q.\n",
    "from unidecode import unidecode\n",
    "print(unidecode(u'ko\\u017eu\\u0161\\u010dek'))\n",
    "print(unidecode(\"मेहनत करते रहिये सफलता जरूर मिलेगी \"))\n",
    "print(unidecode(\"谢谢你\"))\n",
    "print(unidecode(\"ありがとう。\"))\n",
    "print(unidecode(\"улыбаться Владимир Путин\"))"
   ]
  },
  {
   "cell_type": "code",
   "execution_count": null,
   "id": "b7d6e249",
   "metadata": {},
   "outputs": [],
   "source": [
    "# Q4. In Python 3.X, what are the key differences between text-mode and binary-mode files?\n",
    "\n",
    "ANS - The major difference between these two is that a text file contains textual information in the form of \n",
    "alphabets, digits and special characters or symbols. On the other hand, a binary file contains bytes or a compiled\n",
    "version of a text file.\n",
    "When a file is opened in text mode, reading its data automatically decodes its content \n",
    "(as per the platform default or as per provided encoding), and returns it as a str; writing operation takes a str,\n",
    "and automatically encodes it before transferring to the file. Text mode files also support universal end-of-line \n",
    "translation, and encoding specification arguments.\n",
    "When a file is opened in binary mode by adding a b to the mode string argument in the open() call, \n",
    "reading its data does not decode it in any way, and simply returns its content raw and unchanged, as a bytes\n",
    "object; writing takes a bytes object and transfers it to the file unchanged. Binary-mode files also accept a \n",
    "bytearray object for the content to be written to the file."
   ]
  },
  {
   "cell_type": "code",
   "execution_count": null,
   "id": "3b4c0823",
   "metadata": {},
   "outputs": [],
   "source": [
    "# Q5. How can you interpret a Unicode text file containing text encoded in a different encoding than your \n",
    "#     platform's default?\n",
    "ANS - Use of encode() and decode() method can be used to you interpret a Unicode text file containing text \n",
    "encoded in a different encoding than your platform's default, by default encoding parameter is UTF-8"
   ]
  },
  {
   "cell_type": "code",
   "execution_count": null,
   "id": "a0aafe14",
   "metadata": {},
   "outputs": [],
   "source": [
    "# Q6. What is the best way to make a Unicode text file in a particular encoding format?\n",
    "ANS - Use str.encode()and file.write() to make a Unicode text file in a particular encoding format, \n",
    "default encoding format is UTF-18.\n",
    "Call str.encode(encoding) with encoding set to utf8 to encode str.\n",
    "Call open(file, mode) to open a file with mode set to wb . wb writes to files in binary mode & preserves \n",
    "UTF-8format.\n",
    "Call file.write(data) to write data to the file."
   ]
  },
  {
   "cell_type": "code",
   "execution_count": null,
   "id": "ab879425",
   "metadata": {},
   "outputs": [],
   "source": [
    "# Q7. What qualifies ASCII text as a form of Unicode text?\n",
    "ANS - Unicode represents most written languages in the world. ASCII has its equivalent in Unicode.\n",
    "The difference between ASCII and Unicode is that ASCII represents lowercase letters (a-z), uppercase letters(A-Z),\n",
    "digits (0–9) and symbols such as punctuation marks while Unicode represents letters of English, Arabic, Greek etc.\n",
    "mathematical symbols, historical scripts, emoji covering a wide range of characters than ASCII."
   ]
  },
  {
   "cell_type": "code",
   "execution_count": null,
   "id": "5bbc3fcb",
   "metadata": {},
   "outputs": [],
   "source": [
    "# Q8. How much of an effect does the change in string types in Python 3.X have on your code?\n",
    "ANS - Python 3 stores strings as Unicode by default whereas Python 2 requires you to mark a string with a u \n",
    "if you want to store it as Unicode. Unicode strings are more versatile than ASCII strings, which are the Python \n",
    "3.X default, as they can store letters from foreign languages as well as emoji and the standard Roman letters and\n",
    "numerals."
   ]
  },
  {
   "cell_type": "code",
   "execution_count": null,
   "id": "c229defd",
   "metadata": {},
   "outputs": [],
   "source": []
  },
  {
   "cell_type": "code",
   "execution_count": null,
   "id": "78265b20",
   "metadata": {},
   "outputs": [],
   "source": []
  },
  {
   "cell_type": "code",
   "execution_count": null,
   "id": "77a9e9e7",
   "metadata": {},
   "outputs": [],
   "source": []
  }
 ],
 "metadata": {
  "kernelspec": {
   "display_name": "Python 3 (ipykernel)",
   "language": "python",
   "name": "python3"
  },
  "language_info": {
   "codemirror_mode": {
    "name": "ipython",
    "version": 3
   },
   "file_extension": ".py",
   "mimetype": "text/x-python",
   "name": "python",
   "nbconvert_exporter": "python",
   "pygments_lexer": "ipython3",
   "version": "3.9.12"
  }
 },
 "nbformat": 4,
 "nbformat_minor": 5
}
